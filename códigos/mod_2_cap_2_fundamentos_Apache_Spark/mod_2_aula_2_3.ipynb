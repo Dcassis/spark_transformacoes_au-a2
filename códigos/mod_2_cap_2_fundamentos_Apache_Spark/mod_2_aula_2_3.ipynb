{
 "cells": [
  {
   "cell_type": "code",
   "execution_count": 2,
   "metadata": {},
   "outputs": [
    {
     "name": "stdout",
     "output_type": "stream",
     "text": [
      "Number of partitions: 1\n"
     ]
    },
    {
     "name": "stderr",
     "output_type": "stream",
     "text": [
      "[Stage 2:>                                                          (0 + 1) / 1]\r"
     ]
    },
    {
     "name": "stdout",
     "output_type": "stream",
     "text": [
      "De:: 1\n",
      "Daniel: 2\n",
      "<dan.c.assis@gmail.com>: 2\n",
      "Assunto:: 1\n",
      "4: 222114\n",
      "6: 221737\n",
      "0: 222573\n",
      "1: 222018\n",
      "2: 222322\n",
      "3: 222924\n",
      "8: 221626\n",
      "1…: 1\n",
      "Data:: 1\n",
      "9: 1\n",
      "de: 2\n",
      "junho: 1\n",
      "2024: 1\n",
      "às: 1\n",
      "16:43:06: 1\n",
      "BRT: 1\n",
      "Para:: 1\n",
      "Assis: 1\n",
      ": 2\n",
      "7: 222647\n",
      "Enviado: 1\n",
      "do: 1\n",
      "meu: 1\n",
      "iPhone: 1\n"
     ]
    },
    {
     "name": "stderr",
     "output_type": "stream",
     "text": [
      "                                                                                \r"
     ]
    }
   ],
   "source": [
    "#contador de números\n",
    "\n",
    "import sys\n",
    "from operator import add\n",
    "from pyspark.sql import SparkSession\n",
    "\n",
    "filename = \"textoSpark.txt\"\n",
    "\n",
    "spark = SparkSession\\\n",
    "    .builder\\\n",
    "    .appName(\"PythonNumberCount\")\\\n",
    "    .master(\"local[*]\")\\\n",
    "    .getOrCreate()\n",
    "    \n",
    "linesRdd = spark.read.text(filename).rdd.map(lambda r: r[0])\n",
    "\n",
    "print(\"Number of partitions: {}\" .format(linesRdd.getNumPartitions()))\n",
    "\n",
    "counts = linesRdd.flatMap(lambda x: x.split(' '))\\\n",
    "    .map(lambda x: (x, 1)) \\\n",
    "    .reduceByKey(add)\n",
    "    \n",
    "output = counts.collect()\n",
    "for (number, count) in output:\n",
    "    print(\"%s: %i\" % (number, count))"
   ]
  }
 ],
 "metadata": {
  "kernelspec": {
   "display_name": "Python 3",
   "language": "python",
   "name": "python3"
  },
  "language_info": {
   "codemirror_mode": {
    "name": "ipython",
    "version": 3
   },
   "file_extension": ".py",
   "mimetype": "text/x-python",
   "name": "python",
   "nbconvert_exporter": "python",
   "pygments_lexer": "ipython3",
   "version": "3.12.3"
  }
 },
 "nbformat": 4,
 "nbformat_minor": 2
}
