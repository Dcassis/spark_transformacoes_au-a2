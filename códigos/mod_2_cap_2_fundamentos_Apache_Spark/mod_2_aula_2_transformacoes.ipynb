{
 "cells": [
  {
   "cell_type": "code",
   "execution_count": 2,
   "metadata": {},
   "outputs": [
    {
     "name": "stderr",
     "output_type": "stream",
     "text": [
      "24/06/09 21:38:53 WARN Utils: Your hostname, MacBook-Air-de-Daniel-2.local resolves to a loopback address: 127.0.0.1; using 192.168.0.5 instead (on interface en0)\n",
      "24/06/09 21:38:53 WARN Utils: Set SPARK_LOCAL_IP if you need to bind to another address\n",
      "Setting default log level to \"WARN\".\n",
      "To adjust logging level use sc.setLogLevel(newLevel). For SparkR, use setLogLevel(newLevel).\n",
      "24/06/09 21:38:54 WARN NativeCodeLoader: Unable to load native-hadoop library for your platform... using builtin-java classes where applicable\n",
      "24/06/09 21:38:55 WARN Utils: Service 'SparkUI' could not bind on port 4040. Attempting port 4041.\n",
      "(2, 7) 0:>                                                          (0 + 8) / 8]\n",
      "(6, 3)\n",
      "(4, 8)\n",
      "(1, 4)\n",
      "(9, 2)\n",
      "(8, 5)\n",
      "(3, 5)\n",
      "(5, 3)\n",
      "(7, 3)\n",
      "                                                                                \r"
     ]
    }
   ],
   "source": [
    "#reduceByKey(func) - agrega todas as tuplas que tem a mesma chave e combina e opera as tuplas que possuem a mesma chave\n",
    "\n",
    "from pyspark.sql import SparkSession\n",
    "from pyspark.sql.functions import avg\n",
    "\n",
    "\n",
    "spark = (SparkSession.builder\n",
    "         .appName(\"Map\")\n",
    "         .getOrCreate())\n",
    "\n",
    "list = [\"um\", \"um\", \"dois\", \"dois\", \"três\", \"quatro\", \"cinco\", \"cinco\", \"cinco\", \"seis\", \"sete\", \"sete\"]\n",
    "lista2 = [1,2,7,8, 4, 5, 2, 6, 8,3,3, 4, 6,8,2,3,4,6,2,5,2,8,9,1,3,7,4,7,9,3,1,1,4,2,4,2,4,8,5,4]\n",
    "\n",
    "rdd = spark.sparkContext.parallelize(lista2)\n",
    "rdd2 = (rdd.map(lambda w : (w, 1))\n",
    "        .reduceByKey(lambda a,b: a+b))\n",
    "rdd2.foreach(print)"
   ]
  },
  {
   "cell_type": "code",
   "execution_count": 3,
   "metadata": {},
   "outputs": [
    {
     "name": "stderr",
     "output_type": "stream",
     "text": [
      "Lorem\n",
      "ipsum\n",
      "dolor\n",
      "sit\n",
      "amet,\n",
      "consectetur\n",
      "adipiscing\n",
      "elit.\n",
      "Phasellus\n",
      "id\n",
      "diam\n",
      "sed\n",
      "massa\n",
      "finibus\n",
      "fermentum\n",
      "a\n",
      "sed\n",
      "odio.\n",
      "Suspendisse\n",
      "a\n",
      "nibh\n",
      "ut\n",
      "metus\n",
      "condimentum\n",
      "facilisis\n",
      "eu\n",
      "vel\n",
      "arcu.\n",
      "Suspendisse\n",
      "finibus\n",
      "laoreet\n",
      "tortor\n",
      "vitae\n",
      "ultrices.\n",
      "Nam\n",
      "lobortis\n",
      "fringilla\n",
      "ultricies.\n",
      "Cras\n",
      "elementum\n",
      "nunc\n",
      "ut\n",
      "pellentesque\n",
      "viverra.\n",
      "Phasellus\n",
      "fringilla\n",
      "fringilla\n",
      "leo\n",
      "scelerisque\n",
      "semper.\n",
      "Ut\n",
      "interdum\n",
      "ultricies\n",
      "lectus,\n",
      "vel\n",
      "semper\n",
      "diam\n",
      "convallis\n",
      "semper.\n",
      "Integer\n",
      "ut\n",
      "eleifend\n",
      "augue,\n",
      "eget\n",
      "ultricies\n",
      "dolor.\n",
      "Donec\n",
      "tincidunt\n",
      "efficitur\n",
      "bibendum.\n",
      "Phasellus\n",
      "eleifend\n",
      "lectus\n",
      "ac\n",
      "semper\n",
      "semper.\n",
      "Nullam\n",
      "elementum\n",
      "risus\n",
      "nec\n",
      "sapien\n",
      "gravida,\n",
      "at\n",
      "viverra\n",
      "dolor\n",
      "blandit.\n",
      "Etiam\n",
      "risus\n",
      "metus,\n",
      "feugiat\n",
      "id\n",
      "eros\n",
      "at,\n",
      "congue\n",
      "elementum\n",
      "enim.\n",
      "Mauris\n",
      "nec\n",
      "feugiat\n",
      "massa.\n",
      "Mauris\n",
      "arcu\n",
      "nisl,\n",
      "porta\n",
      "eu\n",
      "leo\n",
      "quis,\n",
      "pellentesque\n",
      "blandit\n",
      "orci.\n",
      "Nam\n",
      "aliquam\n",
      "cursus\n",
      "ex,\n",
      "nec\n",
      "convallis\n",
      "nisi\n",
      "blandit\n",
      "facilisis.\n",
      "Vivamus\n",
      "porta,\n",
      "mi\n",
      "hendrerit\n",
      "luctus\n",
      "ullamcorper,\n",
      "urna\n",
      "lacus\n",
      "sagittis\n",
      "magna,\n",
      "et\n",
      "rhoncus\n",
      "massa\n",
      "nulla\n",
      "nec\n",
      "nibh.\n",
      "Praesent\n",
      "aliquam\n",
      "eu\n",
      "tortor\n",
      "eu\n",
      "aliquam.\n",
      "Aliquam\n",
      "varius\n",
      "ex\n",
      "non\n",
      "sem\n",
      "elementum\n",
      "pulvinar.\n",
      "Etiam\n",
      "ac\n",
      "metus\n",
      "tellus.\n",
      "Nam\n",
      "purus\n",
      "nibh,\n",
      "mollis\n",
      "a\n",
      "metus\n",
      "nec,\n",
      "tincidunt\n",
      "imperdiet\n",
      "sem.\n",
      "Pellentesque\n",
      "habitant\n",
      "morbi\n",
      "tristique\n",
      "senectus\n",
      "et\n",
      "netus\n",
      "et\n",
      "malesuada\n",
      "fames\n",
      "ac\n",
      "turpis\n",
      "egestas.\n",
      "Etiam\n",
      "pretium,\n",
      "tortor\n",
      "ut\n",
      "sollicitudin\n",
      "egestas,\n",
      "elit\n",
      "ligula\n",
      "sollicitudin\n",
      "ligula,\n",
      "vitae\n",
      "ultricies\n",
      "elit\n",
      "ligula\n",
      "id\n",
      "erat.\n",
      "Quisque\n",
      "malesuada\n",
      "odio\n",
      "eget\n",
      "quam\n",
      "ultrices\n",
      "volutpat.\n",
      "Praesent\n",
      "malesuada\n",
      "dictum\n",
      "sollicitudin.\n",
      "Vestibulum\n",
      "ante\n",
      "ipsum\n",
      "primis\n",
      "in\n",
      "faucibus\n",
      "orci\n",
      "luctus\n",
      "et\n",
      "ultrices\n",
      "posuere\n",
      "cubilia\n",
      "curae;\n",
      "Nullam\n",
      "finibus\n",
      "tincidunt\n",
      "mattis.\n",
      "Nulla\n",
      "fermentum\n",
      "euismod\n",
      "mi,\n",
      "non\n",
      "rhoncus\n",
      "erat\n",
      "consectetur\n",
      "id.\n",
      "Etiam\n",
      "et\n",
      "ligula\n",
      "commodo,\n",
      "tincidunt\n",
      "velit\n",
      "in,\n",
      "molestie\n",
      "sem.\n",
      "Vestibulum\n",
      "lacinia\n",
      "nisl\n",
      "vel\n",
      "arcu\n",
      "gravida\n",
      "ultrices.\n",
      "Phasellus\n",
      "rhoncus\n",
      "nisl\n",
      "id\n",
      "ligula\n",
      "tempor\n",
      "condimentum.\n"
     ]
    }
   ],
   "source": [
    "#flatMap(func)\n",
    "\n",
    "texto = \"textoAleatorio.txt\"\n",
    "\n",
    "data = spark.sparkContext.textFile(texto)\n",
    "flatFile = data.flatMap(lambda line: line.split())\n",
    "flatFile.foreach(print)"
   ]
  },
  {
   "cell_type": "code",
   "execution_count": 5,
   "metadata": {},
   "outputs": [
    {
     "name": "stderr",
     "output_type": "stream",
     "text": [
      "775\n",
      "985\n"
     ]
    }
   ],
   "source": [
    "#map(func)\n",
    "\n",
    "texto = \"textoAleatorio.txt\"\n",
    "\n",
    "data = spark.sparkContext.textFile(texto)\n",
    "mapFile = data.map(lambda line: len(line))\n",
    "mapFile.foreach(print)"
   ]
  },
  {
   "cell_type": "code",
   "execution_count": 6,
   "metadata": {},
   "outputs": [
    {
     "name": "stderr",
     "output_type": "stream",
     "text": [
      "amet,\n",
      "adipiscing\n",
      "a\n",
      "a\n",
      "arcu.\n",
      "augue,\n",
      "ac\n",
      "at\n",
      "at,\n",
      "arcu\n",
      "aliquam\n",
      "aliquam\n",
      "aliquam.\n",
      "ac\n",
      "a\n",
      "ac\n",
      "ante\n",
      "arcu\n"
     ]
    }
   ],
   "source": [
    "#filter(func) - nesse exemplo conta as palavras do texto iniciadas com a letra \"a\"\n",
    "\n",
    "texto = \"textoAleatorio.txt\"\n",
    "\n",
    "data = spark.sparkContext.textFile(texto)\n",
    "flatFile = (data\n",
    "    .flatMap(lambda line: line.split())\n",
    "    .filter(lambda word: word.startswith(\"a\")))\n",
    "flatFile.foreach(print)"
   ]
  },
  {
   "cell_type": "code",
   "execution_count": 13,
   "metadata": {},
   "outputs": [
    {
     "name": "stdout",
     "output_type": "stream",
     "text": [
      "(9, 2)\n",
      "(8, 5)\n",
      "(7, 3)\n",
      "(6, 3)\n",
      "(5, 3)\n",
      "(4, 8)\n",
      "(3, 5)\n",
      "(2, 7)\n",
      "(1, 4)\n"
     ]
    }
   ],
   "source": [
    "#sortByKey(func) - organiza os resultados de forma ascendente (True) ou descendente (False)\n",
    "\n",
    "words_list = [\"um\", \"um\", \"dois\", \"dois\", \"três\", \"quatro\", \"cinco\", \"cinco\", \"cinco\", \"seis\", \"sete\", \"sete\"]\n",
    "list = [1,2,7,8, 4, 5, 2, 6, 8,3,3, 4, 6,8,2,3,4,6,2,5,2,8,9,1,3,7,4,7,9,3,1,1,4,2,4,2,4,8,5,4]\n",
    "rdd = spark.sparkContext.parallelize(list)\n",
    "\n",
    "# Aplicação de transformações no RDD\n",
    "rdd2 = (rdd.map(lambda w: (w, 1))  # Mapeamento para pares chave-valor (palavra, 1)\n",
    "        .reduceByKey(lambda a, b: a + b)  # Redução por chave (soma dos valores)\n",
    "        .sortByKey(ascending=False))  # Ordenação pelas chaves em ordem ascendente\n",
    "\n",
    "# Ação para imprimir os resultados\n",
    "for item in rdd2.collect():\n",
    "    print(item)"
   ]
  },
  {
   "cell_type": "code",
   "execution_count": 18,
   "metadata": {},
   "outputs": [
    {
     "name": "stderr",
     "output_type": "stream",
     "text": [
      "laranja\n",
      "laranja\n",
      "uva\n",
      "pinha\n",
      "pinha\n",
      "uva\n",
      "pera\n",
      "uva\n",
      "maça\n"
     ]
    }
   ],
   "source": [
    "#union(rdd) - a transformacao de um rdd cria, atraves da uniao de rdds uma outra rdd\n",
    "\n",
    "frutas = [\"laranja\", \"uva\", \"pinha\", \"laranja\"]\n",
    "frutas2 = [\"pera\", \"uva\", \"pinha\", \"uva\", \"maça\"]\n",
    "\n",
    "rdd = spark.sparkContext.parallelize(frutas)\n",
    "rdd2 = spark.sparkContext.parallelize(frutas2)\n",
    "\n",
    "rddUnion = rdd.union(rdd2)\n",
    "rddUnion.foreach(print)"
   ]
  },
  {
   "cell_type": "code",
   "execution_count": 25,
   "metadata": {},
   "outputs": [
    {
     "name": "stderr",
     "output_type": "stream",
     "text": [
      "Java HotSpot(TM) 64-Bit Server VM warning: CodeCache is full. Compiler has been disabled.\n",
      "Java HotSpot(TM) 64-Bit Server VM warning: Try increasing the code cache size using -XX:ReservedCodeCacheSize=\n",
      "[Stage 73:=============================================>          (13 + 3) / 16]\r"
     ]
    },
    {
     "name": "stdout",
     "output_type": "stream",
     "text": [
      "CodeCache: size=131072Kb used=25250Kb max_used=25250Kb free=105821Kb\n",
      " bounds [0x000000010b1e8000, 0x000000010cac8000, 0x00000001131e8000]\n",
      " total_blobs=9600 nmethods=8766 adapters=747\n",
      " compilation: disabled (not enough contiguous free space left)\n"
     ]
    },
    {
     "name": "stderr",
     "output_type": "stream",
     "text": [
      "maça\n",
      "pinha\n",
      "uva\n",
      "laranja\n",
      "                                                                                \r"
     ]
    }
   ],
   "source": [
    "#intersection(func) - cria uma interseção entre os dois elementos\n",
    "\n",
    "frutas = [\"laranja\", \"uva\", \"pinha\", \"laranja\", \"maça\"]\n",
    "frutas2 = [\"pera\", \"uva\", \"pinha\", \"uva\", \"maça\", \"laranja\"]\n",
    "\n",
    "rdd = spark.sparkContext.parallelize(frutas)\n",
    "rdd2 = spark.sparkContext.parallelize(frutas2)\n",
    "\n",
    "rddIntersection = rdd.intersection(rdd2)\n",
    "rddIntersection.foreach(print)"
   ]
  },
  {
   "cell_type": "code",
   "execution_count": 24,
   "metadata": {},
   "outputs": [
    {
     "name": "stderr",
     "output_type": "stream",
     "text": [
      "8\n",
      "4\n",
      "2\n",
      "1\n",
      "9\n",
      "5\n",
      "7\n",
      "6\n",
      "3\n"
     ]
    }
   ],
   "source": [
    "#distinct(rdd) - retira duplicações\n",
    "\n",
    "frutas = [\"laranja\", \"uva\", \"pinha\", \"laranja\", \"maça\"]\n",
    "list = [1,2,7,8, 4, 5, 2, 6, 8,3,3, 4, 6,8,2,3,4,6,2,5,2,8,9,1,3,7,4,7,9,3,1,1,4,2,4,2,4,8,5,4]\n",
    "\n",
    "rdd = spark.sparkContext.parallelize(list)\n",
    "\n",
    "rddDistinct = rdd.distinct()\n",
    "rddDistinct.foreach(print)"
   ]
  },
  {
   "cell_type": "code",
   "execution_count": 28,
   "metadata": {},
   "outputs": [
    {
     "name": "stderr",
     "output_type": "stream",
     "text": [
      "('Daniel', (45, 'Salvador'))==========>                            (8 + 8) / 16]\n",
      "('Ana Terra', (42, 'Recife'))\n",
      "                                                                                \r"
     ]
    }
   ],
   "source": [
    "#join(rdd) - une elementos de diferentes listas com mesmo valor de chave\n",
    "\n",
    "pessoa = [(\"Daniel\", 45), (\"Ana Terra\", 42)]\n",
    "cidade = [(\"Daniel\", \"Salvador\"), (\"Ana Terra\", \"Recife\")]\n",
    "\n",
    "rdd = spark.sparkContext.parallelize(pessoa)\n",
    "rdd2 = spark.sparkContext.parallelize(cidade)\n",
    "\n",
    "rddJoin = rdd.join(rdd2)\n",
    "rddJoin.foreach(print)"
   ]
  },
  {
   "cell_type": "code",
   "execution_count": 30,
   "metadata": {},
   "outputs": [
    {
     "name": "stdout",
     "output_type": "stream",
     "text": [
      "[('Daniel', (45, 'Salvador')), ('Ana Terra', (42, 'Recife'))]\n"
     ]
    }
   ],
   "source": [
    "#collect - retorna todo o conteúdo do RDD para o driver, em memória\n",
    "\n",
    "pessoa = [(\"Daniel\", 45), (\"Ana Terra\", 42)]\n",
    "cidade = [(\"Daniel\", \"Salvador\"), (\"Ana Terra\", \"Recife\")]\n",
    "\n",
    "rdd = spark.sparkContext.parallelize(pessoa)\n",
    "rdd2 = spark.sparkContext.parallelize(cidade)\n",
    "\n",
    "rddJoin = rdd.join(rdd2)\n",
    "print(rddJoin.collect())"
   ]
  },
  {
   "cell_type": "code",
   "execution_count": 31,
   "metadata": {},
   "outputs": [
    {
     "name": "stderr",
     "output_type": "stream",
     "text": [
      "[Stage 83:====================================================>   (15 + 1) / 16]\r"
     ]
    },
    {
     "name": "stdout",
     "output_type": "stream",
     "text": [
      "2\n"
     ]
    },
    {
     "name": "stderr",
     "output_type": "stream",
     "text": [
      "                                                                                \r"
     ]
    }
   ],
   "source": [
    "#count() - conta o número de itens do RDD\n",
    "\n",
    "pessoa = [(\"Daniel\", 45), (\"Ana Terra\", 42)]\n",
    "cidade = [(\"Daniel\", \"Salvador\"), (\"Ana Terra\", \"Recife\")]\n",
    "\n",
    "rdd = spark.sparkContext.parallelize(pessoa)\n",
    "rdd2 = spark.sparkContext.parallelize(cidade)\n",
    "\n",
    "rddJoin = rdd.join(rdd2)\n",
    "print(rddJoin.count())"
   ]
  },
  {
   "cell_type": "code",
   "execution_count": 40,
   "metadata": {},
   "outputs": [
    {
     "name": "stderr",
     "output_type": "stream",
     "text": [
      "                                                                                \r"
     ]
    },
    {
     "data": {
      "text/plain": [
       "['uva', 'laranja']"
      ]
     },
     "execution_count": 40,
     "metadata": {},
     "output_type": "execute_result"
    }
   ],
   "source": [
    "#take(n) - retorna N elementos aleatórios do RDD\n",
    "\n",
    "frutas = [\"laranja\", \"uva\", \"pinha\", \"laranja\", \"maça\"]\n",
    "frutas2 = [\"pera\", \"uva\", \"pinha\", \"uva\", \"maça\", \"laranja\"]\n",
    "\n",
    "rdd = spark.sparkContext.parallelize(frutas)\n",
    "rdd2 = spark.sparkContext.parallelize(frutas2)\n",
    "\n",
    "rddIntersection = rdd.intersection(rdd2)\n",
    "rddIntersection.take(2)"
   ]
  },
  {
   "cell_type": "code",
   "execution_count": 47,
   "metadata": {},
   "outputs": [
    {
     "name": "stderr",
     "output_type": "stream",
     "text": [
      "                                                                                \r"
     ]
    },
    {
     "data": {
      "text/plain": [
       "['uva', 'pinha']"
      ]
     },
     "execution_count": 47,
     "metadata": {},
     "output_type": "execute_result"
    }
   ],
   "source": [
    "#top(k) - ordena os elementos\n",
    "\n",
    "frutas = [\"laranja\", \"uva\", \"pinha\", \"laranja\", \"maça\"]\n",
    "frutas2 = [\"pera\", \"uva\", \"pinha\", \"uva\", \"maça\", \"laranja\"]\n",
    "\n",
    "rdd = spark.sparkContext.parallelize(frutas)\n",
    "rdd2 = spark.sparkContext.parallelize(frutas2)\n",
    "\n",
    "rddIntersection = rdd.intersection(rdd2)\n",
    "rddIntersection.top(2)"
   ]
  },
  {
   "cell_type": "code",
   "execution_count": 50,
   "metadata": {},
   "outputs": [
    {
     "data": {
      "text/plain": [
       "defaultdict(int, {'laranja': 3, 'uva': 3, 'pinha': 2, 'maça': 2, 'pera': 2})"
      ]
     },
     "execution_count": 50,
     "metadata": {},
     "output_type": "execute_result"
    }
   ],
   "source": [
    "#countByValue - açoes que produzem valores qu enao sao rdds\n",
    "\n",
    "frutas = [\"laranja\", \"uva\", \"pinha\", \"laranja\", \"maça\", \"pera\"]\n",
    "frutas2 = [\"pera\", \"uva\", \"pinha\", \"uva\", \"maça\", \"laranja\"]\n",
    "\n",
    "rdd = spark.sparkContext.parallelize(frutas)\n",
    "rdd2 = spark.sparkContext.parallelize(frutas2)\n",
    "\n",
    "rddIntersection = rdd.union(rdd2)\n",
    "rddIntersection.countByValue()"
   ]
  },
  {
   "cell_type": "code",
   "execution_count": 52,
   "metadata": {},
   "outputs": [
    {
     "data": {
      "text/plain": [
       "'laranja uva pinha laranja maça pera pera uva pinha uva maça laranja'"
      ]
     },
     "execution_count": 52,
     "metadata": {},
     "output_type": "execute_result"
    }
   ],
   "source": [
    "#reduce(func) - combina 2 elementos de um RDD e produz um único elemento\n",
    "\n",
    "frutas = [\"laranja\", \"uva\", \"pinha\", \"laranja\", \"maça\", \"pera\"]\n",
    "frutas2 = [\"pera\", \"uva\", \"pinha\", \"uva\", \"maça\", \"laranja\"]\n",
    "\n",
    "rdd = spark.sparkContext.parallelize(frutas)\n",
    "rdd2 = spark.sparkContext.parallelize(frutas2)\n",
    "\n",
    "rddIntersection = rdd.union(rdd2)\n",
    "rddIntersection.reduce(lambda a,b: a + ' '+ b)"
   ]
  },
  {
   "cell_type": "code",
   "execution_count": 5,
   "metadata": {},
   "outputs": [
    {
     "ename": "Py4JJavaError",
     "evalue": "An error occurred while calling o92.saveAsTextFile.\n: org.apache.hadoop.mapred.FileAlreadyExistsException: Output directory file:/Users/dcassis/Documents/Pós_Graduação - Data Science and Learning Machine/Módulo 2 -  Desenvolvimento de Soluções Utilizando Spark/códigos already exists\n\tat org.apache.hadoop.mapred.FileOutputFormat.checkOutputSpecs(FileOutputFormat.java:131)\n\tat org.apache.spark.internal.io.HadoopMapRedWriteConfigUtil.assertConf(SparkHadoopWriter.scala:299)\n\tat org.apache.spark.internal.io.SparkHadoopWriter$.write(SparkHadoopWriter.scala:71)\n\tat org.apache.spark.rdd.PairRDDFunctions.$anonfun$saveAsHadoopDataset$1(PairRDDFunctions.scala:1091)\n\tat scala.runtime.java8.JFunction0$mcV$sp.apply(JFunction0$mcV$sp.java:23)\n\tat org.apache.spark.rdd.RDDOperationScope$.withScope(RDDOperationScope.scala:151)\n\tat org.apache.spark.rdd.RDDOperationScope$.withScope(RDDOperationScope.scala:112)\n\tat org.apache.spark.rdd.RDD.withScope(RDD.scala:410)\n\tat org.apache.spark.rdd.PairRDDFunctions.saveAsHadoopDataset(PairRDDFunctions.scala:1089)\n\tat org.apache.spark.rdd.PairRDDFunctions.$anonfun$saveAsHadoopFile$4(PairRDDFunctions.scala:1062)\n\tat scala.runtime.java8.JFunction0$mcV$sp.apply(JFunction0$mcV$sp.java:23)\n\tat org.apache.spark.rdd.RDDOperationScope$.withScope(RDDOperationScope.scala:151)\n\tat org.apache.spark.rdd.RDDOperationScope$.withScope(RDDOperationScope.scala:112)\n\tat org.apache.spark.rdd.RDD.withScope(RDD.scala:410)\n\tat org.apache.spark.rdd.PairRDDFunctions.saveAsHadoopFile(PairRDDFunctions.scala:1027)\n\tat org.apache.spark.rdd.PairRDDFunctions.$anonfun$saveAsHadoopFile$3(PairRDDFunctions.scala:1009)\n\tat scala.runtime.java8.JFunction0$mcV$sp.apply(JFunction0$mcV$sp.java:23)\n\tat org.apache.spark.rdd.RDDOperationScope$.withScope(RDDOperationScope.scala:151)\n\tat org.apache.spark.rdd.RDDOperationScope$.withScope(RDDOperationScope.scala:112)\n\tat org.apache.spark.rdd.RDD.withScope(RDD.scala:410)\n\tat org.apache.spark.rdd.PairRDDFunctions.saveAsHadoopFile(PairRDDFunctions.scala:1008)\n\tat org.apache.spark.rdd.PairRDDFunctions.$anonfun$saveAsHadoopFile$2(PairRDDFunctions.scala:965)\n\tat scala.runtime.java8.JFunction0$mcV$sp.apply(JFunction0$mcV$sp.java:23)\n\tat org.apache.spark.rdd.RDDOperationScope$.withScope(RDDOperationScope.scala:151)\n\tat org.apache.spark.rdd.RDDOperationScope$.withScope(RDDOperationScope.scala:112)\n\tat org.apache.spark.rdd.RDD.withScope(RDD.scala:410)\n\tat org.apache.spark.rdd.PairRDDFunctions.saveAsHadoopFile(PairRDDFunctions.scala:963)\n\tat org.apache.spark.rdd.RDD.$anonfun$saveAsTextFile$2(RDD.scala:1623)\n\tat scala.runtime.java8.JFunction0$mcV$sp.apply(JFunction0$mcV$sp.java:23)\n\tat org.apache.spark.rdd.RDDOperationScope$.withScope(RDDOperationScope.scala:151)\n\tat org.apache.spark.rdd.RDDOperationScope$.withScope(RDDOperationScope.scala:112)\n\tat org.apache.spark.rdd.RDD.withScope(RDD.scala:410)\n\tat org.apache.spark.rdd.RDD.saveAsTextFile(RDD.scala:1623)\n\tat org.apache.spark.rdd.RDD.$anonfun$saveAsTextFile$1(RDD.scala:1609)\n\tat scala.runtime.java8.JFunction0$mcV$sp.apply(JFunction0$mcV$sp.java:23)\n\tat org.apache.spark.rdd.RDDOperationScope$.withScope(RDDOperationScope.scala:151)\n\tat org.apache.spark.rdd.RDDOperationScope$.withScope(RDDOperationScope.scala:112)\n\tat org.apache.spark.rdd.RDD.withScope(RDD.scala:410)\n\tat org.apache.spark.rdd.RDD.saveAsTextFile(RDD.scala:1609)\n\tat org.apache.spark.api.java.JavaRDDLike.saveAsTextFile(JavaRDDLike.scala:564)\n\tat org.apache.spark.api.java.JavaRDDLike.saveAsTextFile$(JavaRDDLike.scala:563)\n\tat org.apache.spark.api.java.AbstractJavaRDDLike.saveAsTextFile(JavaRDDLike.scala:45)\n\tat sun.reflect.NativeMethodAccessorImpl.invoke0(Native Method)\n\tat sun.reflect.NativeMethodAccessorImpl.invoke(NativeMethodAccessorImpl.java:62)\n\tat sun.reflect.DelegatingMethodAccessorImpl.invoke(DelegatingMethodAccessorImpl.java:43)\n\tat java.lang.reflect.Method.invoke(Method.java:498)\n\tat py4j.reflection.MethodInvoker.invoke(MethodInvoker.java:244)\n\tat py4j.reflection.ReflectionEngine.invoke(ReflectionEngine.java:374)\n\tat py4j.Gateway.invoke(Gateway.java:282)\n\tat py4j.commands.AbstractCommand.invokeMethod(AbstractCommand.java:132)\n\tat py4j.commands.CallCommand.execute(CallCommand.java:79)\n\tat py4j.ClientServerConnection.waitForCommands(ClientServerConnection.java:182)\n\tat py4j.ClientServerConnection.run(ClientServerConnection.java:106)\n\tat java.lang.Thread.run(Thread.java:750)\n",
     "output_type": "error",
     "traceback": [
      "\u001b[0;31m---------------------------------------------------------------------------\u001b[0m",
      "\u001b[0;31mPy4JJavaError\u001b[0m                             Traceback (most recent call last)",
      "Cell \u001b[0;32mIn[5], line 10\u001b[0m\n\u001b[1;32m      7\u001b[0m rdd2 \u001b[38;5;241m=\u001b[39m spark\u001b[38;5;241m.\u001b[39msparkContext\u001b[38;5;241m.\u001b[39mparallelize(frutas2)\n\u001b[1;32m      9\u001b[0m rddIntersection \u001b[38;5;241m=\u001b[39m rdd\u001b[38;5;241m.\u001b[39munion(rdd2)\n\u001b[0;32m---> 10\u001b[0m \u001b[43mrddIntersection\u001b[49m\u001b[38;5;241;43m.\u001b[39;49m\u001b[43msaveAsTextFile\u001b[49m\u001b[43m(\u001b[49m\u001b[38;5;124;43m'\u001b[39;49m\u001b[38;5;124;43m../códigos\u001b[39;49m\u001b[38;5;124;43m'\u001b[39;49m\u001b[43m)\u001b[49m\n",
      "File \u001b[0;32m/Library/Frameworks/Python.framework/Versions/3.12/lib/python3.12/site-packages/pyspark/rdd.py:3425\u001b[0m, in \u001b[0;36mRDD.saveAsTextFile\u001b[0;34m(self, path, compressionCodecClass)\u001b[0m\n\u001b[1;32m   3423\u001b[0m     keyed\u001b[38;5;241m.\u001b[39m_jrdd\u001b[38;5;241m.\u001b[39mmap(\u001b[38;5;28mself\u001b[39m\u001b[38;5;241m.\u001b[39mctx\u001b[38;5;241m.\u001b[39m_jvm\u001b[38;5;241m.\u001b[39mBytesToString())\u001b[38;5;241m.\u001b[39msaveAsTextFile(path, compressionCodec)\n\u001b[1;32m   3424\u001b[0m \u001b[38;5;28;01melse\u001b[39;00m:\n\u001b[0;32m-> 3425\u001b[0m     \u001b[43mkeyed\u001b[49m\u001b[38;5;241;43m.\u001b[39;49m\u001b[43m_jrdd\u001b[49m\u001b[38;5;241;43m.\u001b[39;49m\u001b[43mmap\u001b[49m\u001b[43m(\u001b[49m\u001b[38;5;28;43mself\u001b[39;49m\u001b[38;5;241;43m.\u001b[39;49m\u001b[43mctx\u001b[49m\u001b[38;5;241;43m.\u001b[39;49m\u001b[43m_jvm\u001b[49m\u001b[38;5;241;43m.\u001b[39;49m\u001b[43mBytesToString\u001b[49m\u001b[43m(\u001b[49m\u001b[43m)\u001b[49m\u001b[43m)\u001b[49m\u001b[38;5;241;43m.\u001b[39;49m\u001b[43msaveAsTextFile\u001b[49m\u001b[43m(\u001b[49m\u001b[43mpath\u001b[49m\u001b[43m)\u001b[49m\n",
      "File \u001b[0;32m/Library/Frameworks/Python.framework/Versions/3.12/lib/python3.12/site-packages/py4j/java_gateway.py:1322\u001b[0m, in \u001b[0;36mJavaMember.__call__\u001b[0;34m(self, *args)\u001b[0m\n\u001b[1;32m   1316\u001b[0m command \u001b[38;5;241m=\u001b[39m proto\u001b[38;5;241m.\u001b[39mCALL_COMMAND_NAME \u001b[38;5;241m+\u001b[39m\\\n\u001b[1;32m   1317\u001b[0m     \u001b[38;5;28mself\u001b[39m\u001b[38;5;241m.\u001b[39mcommand_header \u001b[38;5;241m+\u001b[39m\\\n\u001b[1;32m   1318\u001b[0m     args_command \u001b[38;5;241m+\u001b[39m\\\n\u001b[1;32m   1319\u001b[0m     proto\u001b[38;5;241m.\u001b[39mEND_COMMAND_PART\n\u001b[1;32m   1321\u001b[0m answer \u001b[38;5;241m=\u001b[39m \u001b[38;5;28mself\u001b[39m\u001b[38;5;241m.\u001b[39mgateway_client\u001b[38;5;241m.\u001b[39msend_command(command)\n\u001b[0;32m-> 1322\u001b[0m return_value \u001b[38;5;241m=\u001b[39m \u001b[43mget_return_value\u001b[49m\u001b[43m(\u001b[49m\n\u001b[1;32m   1323\u001b[0m \u001b[43m    \u001b[49m\u001b[43manswer\u001b[49m\u001b[43m,\u001b[49m\u001b[43m \u001b[49m\u001b[38;5;28;43mself\u001b[39;49m\u001b[38;5;241;43m.\u001b[39;49m\u001b[43mgateway_client\u001b[49m\u001b[43m,\u001b[49m\u001b[43m \u001b[49m\u001b[38;5;28;43mself\u001b[39;49m\u001b[38;5;241;43m.\u001b[39;49m\u001b[43mtarget_id\u001b[49m\u001b[43m,\u001b[49m\u001b[43m \u001b[49m\u001b[38;5;28;43mself\u001b[39;49m\u001b[38;5;241;43m.\u001b[39;49m\u001b[43mname\u001b[49m\u001b[43m)\u001b[49m\n\u001b[1;32m   1325\u001b[0m \u001b[38;5;28;01mfor\u001b[39;00m temp_arg \u001b[38;5;129;01min\u001b[39;00m temp_args:\n\u001b[1;32m   1326\u001b[0m     \u001b[38;5;28;01mif\u001b[39;00m \u001b[38;5;28mhasattr\u001b[39m(temp_arg, \u001b[38;5;124m\"\u001b[39m\u001b[38;5;124m_detach\u001b[39m\u001b[38;5;124m\"\u001b[39m):\n",
      "File \u001b[0;32m/Library/Frameworks/Python.framework/Versions/3.12/lib/python3.12/site-packages/pyspark/errors/exceptions/captured.py:179\u001b[0m, in \u001b[0;36mcapture_sql_exception.<locals>.deco\u001b[0;34m(*a, **kw)\u001b[0m\n\u001b[1;32m    177\u001b[0m \u001b[38;5;28;01mdef\u001b[39;00m \u001b[38;5;21mdeco\u001b[39m(\u001b[38;5;241m*\u001b[39ma: Any, \u001b[38;5;241m*\u001b[39m\u001b[38;5;241m*\u001b[39mkw: Any) \u001b[38;5;241m-\u001b[39m\u001b[38;5;241m>\u001b[39m Any:\n\u001b[1;32m    178\u001b[0m     \u001b[38;5;28;01mtry\u001b[39;00m:\n\u001b[0;32m--> 179\u001b[0m         \u001b[38;5;28;01mreturn\u001b[39;00m \u001b[43mf\u001b[49m\u001b[43m(\u001b[49m\u001b[38;5;241;43m*\u001b[39;49m\u001b[43ma\u001b[49m\u001b[43m,\u001b[49m\u001b[43m \u001b[49m\u001b[38;5;241;43m*\u001b[39;49m\u001b[38;5;241;43m*\u001b[39;49m\u001b[43mkw\u001b[49m\u001b[43m)\u001b[49m\n\u001b[1;32m    180\u001b[0m     \u001b[38;5;28;01mexcept\u001b[39;00m Py4JJavaError \u001b[38;5;28;01mas\u001b[39;00m e:\n\u001b[1;32m    181\u001b[0m         converted \u001b[38;5;241m=\u001b[39m convert_exception(e\u001b[38;5;241m.\u001b[39mjava_exception)\n",
      "File \u001b[0;32m/Library/Frameworks/Python.framework/Versions/3.12/lib/python3.12/site-packages/py4j/protocol.py:326\u001b[0m, in \u001b[0;36mget_return_value\u001b[0;34m(answer, gateway_client, target_id, name)\u001b[0m\n\u001b[1;32m    324\u001b[0m value \u001b[38;5;241m=\u001b[39m OUTPUT_CONVERTER[\u001b[38;5;28mtype\u001b[39m](answer[\u001b[38;5;241m2\u001b[39m:], gateway_client)\n\u001b[1;32m    325\u001b[0m \u001b[38;5;28;01mif\u001b[39;00m answer[\u001b[38;5;241m1\u001b[39m] \u001b[38;5;241m==\u001b[39m REFERENCE_TYPE:\n\u001b[0;32m--> 326\u001b[0m     \u001b[38;5;28;01mraise\u001b[39;00m Py4JJavaError(\n\u001b[1;32m    327\u001b[0m         \u001b[38;5;124m\"\u001b[39m\u001b[38;5;124mAn error occurred while calling \u001b[39m\u001b[38;5;132;01m{0}\u001b[39;00m\u001b[38;5;132;01m{1}\u001b[39;00m\u001b[38;5;132;01m{2}\u001b[39;00m\u001b[38;5;124m.\u001b[39m\u001b[38;5;130;01m\\n\u001b[39;00m\u001b[38;5;124m\"\u001b[39m\u001b[38;5;241m.\u001b[39m\n\u001b[1;32m    328\u001b[0m         \u001b[38;5;28mformat\u001b[39m(target_id, \u001b[38;5;124m\"\u001b[39m\u001b[38;5;124m.\u001b[39m\u001b[38;5;124m\"\u001b[39m, name), value)\n\u001b[1;32m    329\u001b[0m \u001b[38;5;28;01melse\u001b[39;00m:\n\u001b[1;32m    330\u001b[0m     \u001b[38;5;28;01mraise\u001b[39;00m Py4JError(\n\u001b[1;32m    331\u001b[0m         \u001b[38;5;124m\"\u001b[39m\u001b[38;5;124mAn error occurred while calling \u001b[39m\u001b[38;5;132;01m{0}\u001b[39;00m\u001b[38;5;132;01m{1}\u001b[39;00m\u001b[38;5;132;01m{2}\u001b[39;00m\u001b[38;5;124m. Trace:\u001b[39m\u001b[38;5;130;01m\\n\u001b[39;00m\u001b[38;5;132;01m{3}\u001b[39;00m\u001b[38;5;130;01m\\n\u001b[39;00m\u001b[38;5;124m\"\u001b[39m\u001b[38;5;241m.\u001b[39m\n\u001b[1;32m    332\u001b[0m         \u001b[38;5;28mformat\u001b[39m(target_id, \u001b[38;5;124m\"\u001b[39m\u001b[38;5;124m.\u001b[39m\u001b[38;5;124m\"\u001b[39m, name, value))\n",
      "\u001b[0;31mPy4JJavaError\u001b[0m: An error occurred while calling o92.saveAsTextFile.\n: org.apache.hadoop.mapred.FileAlreadyExistsException: Output directory file:/Users/dcassis/Documents/Pós_Graduação - Data Science and Learning Machine/Módulo 2 -  Desenvolvimento de Soluções Utilizando Spark/códigos already exists\n\tat org.apache.hadoop.mapred.FileOutputFormat.checkOutputSpecs(FileOutputFormat.java:131)\n\tat org.apache.spark.internal.io.HadoopMapRedWriteConfigUtil.assertConf(SparkHadoopWriter.scala:299)\n\tat org.apache.spark.internal.io.SparkHadoopWriter$.write(SparkHadoopWriter.scala:71)\n\tat org.apache.spark.rdd.PairRDDFunctions.$anonfun$saveAsHadoopDataset$1(PairRDDFunctions.scala:1091)\n\tat scala.runtime.java8.JFunction0$mcV$sp.apply(JFunction0$mcV$sp.java:23)\n\tat org.apache.spark.rdd.RDDOperationScope$.withScope(RDDOperationScope.scala:151)\n\tat org.apache.spark.rdd.RDDOperationScope$.withScope(RDDOperationScope.scala:112)\n\tat org.apache.spark.rdd.RDD.withScope(RDD.scala:410)\n\tat org.apache.spark.rdd.PairRDDFunctions.saveAsHadoopDataset(PairRDDFunctions.scala:1089)\n\tat org.apache.spark.rdd.PairRDDFunctions.$anonfun$saveAsHadoopFile$4(PairRDDFunctions.scala:1062)\n\tat scala.runtime.java8.JFunction0$mcV$sp.apply(JFunction0$mcV$sp.java:23)\n\tat org.apache.spark.rdd.RDDOperationScope$.withScope(RDDOperationScope.scala:151)\n\tat org.apache.spark.rdd.RDDOperationScope$.withScope(RDDOperationScope.scala:112)\n\tat org.apache.spark.rdd.RDD.withScope(RDD.scala:410)\n\tat org.apache.spark.rdd.PairRDDFunctions.saveAsHadoopFile(PairRDDFunctions.scala:1027)\n\tat org.apache.spark.rdd.PairRDDFunctions.$anonfun$saveAsHadoopFile$3(PairRDDFunctions.scala:1009)\n\tat scala.runtime.java8.JFunction0$mcV$sp.apply(JFunction0$mcV$sp.java:23)\n\tat org.apache.spark.rdd.RDDOperationScope$.withScope(RDDOperationScope.scala:151)\n\tat org.apache.spark.rdd.RDDOperationScope$.withScope(RDDOperationScope.scala:112)\n\tat org.apache.spark.rdd.RDD.withScope(RDD.scala:410)\n\tat org.apache.spark.rdd.PairRDDFunctions.saveAsHadoopFile(PairRDDFunctions.scala:1008)\n\tat org.apache.spark.rdd.PairRDDFunctions.$anonfun$saveAsHadoopFile$2(PairRDDFunctions.scala:965)\n\tat scala.runtime.java8.JFunction0$mcV$sp.apply(JFunction0$mcV$sp.java:23)\n\tat org.apache.spark.rdd.RDDOperationScope$.withScope(RDDOperationScope.scala:151)\n\tat org.apache.spark.rdd.RDDOperationScope$.withScope(RDDOperationScope.scala:112)\n\tat org.apache.spark.rdd.RDD.withScope(RDD.scala:410)\n\tat org.apache.spark.rdd.PairRDDFunctions.saveAsHadoopFile(PairRDDFunctions.scala:963)\n\tat org.apache.spark.rdd.RDD.$anonfun$saveAsTextFile$2(RDD.scala:1623)\n\tat scala.runtime.java8.JFunction0$mcV$sp.apply(JFunction0$mcV$sp.java:23)\n\tat org.apache.spark.rdd.RDDOperationScope$.withScope(RDDOperationScope.scala:151)\n\tat org.apache.spark.rdd.RDDOperationScope$.withScope(RDDOperationScope.scala:112)\n\tat org.apache.spark.rdd.RDD.withScope(RDD.scala:410)\n\tat org.apache.spark.rdd.RDD.saveAsTextFile(RDD.scala:1623)\n\tat org.apache.spark.rdd.RDD.$anonfun$saveAsTextFile$1(RDD.scala:1609)\n\tat scala.runtime.java8.JFunction0$mcV$sp.apply(JFunction0$mcV$sp.java:23)\n\tat org.apache.spark.rdd.RDDOperationScope$.withScope(RDDOperationScope.scala:151)\n\tat org.apache.spark.rdd.RDDOperationScope$.withScope(RDDOperationScope.scala:112)\n\tat org.apache.spark.rdd.RDD.withScope(RDD.scala:410)\n\tat org.apache.spark.rdd.RDD.saveAsTextFile(RDD.scala:1609)\n\tat org.apache.spark.api.java.JavaRDDLike.saveAsTextFile(JavaRDDLike.scala:564)\n\tat org.apache.spark.api.java.JavaRDDLike.saveAsTextFile$(JavaRDDLike.scala:563)\n\tat org.apache.spark.api.java.AbstractJavaRDDLike.saveAsTextFile(JavaRDDLike.scala:45)\n\tat sun.reflect.NativeMethodAccessorImpl.invoke0(Native Method)\n\tat sun.reflect.NativeMethodAccessorImpl.invoke(NativeMethodAccessorImpl.java:62)\n\tat sun.reflect.DelegatingMethodAccessorImpl.invoke(DelegatingMethodAccessorImpl.java:43)\n\tat java.lang.reflect.Method.invoke(Method.java:498)\n\tat py4j.reflection.MethodInvoker.invoke(MethodInvoker.java:244)\n\tat py4j.reflection.ReflectionEngine.invoke(ReflectionEngine.java:374)\n\tat py4j.Gateway.invoke(Gateway.java:282)\n\tat py4j.commands.AbstractCommand.invokeMethod(AbstractCommand.java:132)\n\tat py4j.commands.CallCommand.execute(CallCommand.java:79)\n\tat py4j.ClientServerConnection.waitForCommands(ClientServerConnection.java:182)\n\tat py4j.ClientServerConnection.run(ClientServerConnection.java:106)\n\tat java.lang.Thread.run(Thread.java:750)\n"
     ]
    }
   ],
   "source": [
    "#Transformação repartition - altera o número de repetições do RDD\n",
    "\n",
    "frutas = [\"laranja\", \"uva\", \"pinha\", \"laranja\", \"maça\", \"pera\"]\n",
    "frutas2 = [\"pera\", \"uva\", \"pinha\", \"uva\", \"maça\", \"laranja\"]\n",
    "\n",
    "rdd = spark.sparkContext.parallelize(frutas)\n",
    "rdd2 = spark.sparkContext.parallelize(frutas2)\n",
    "\n",
    "rddIntersection = rdd.union(rdd2)\n",
    "rddIntersection.saveAsTextFile('../códigos/arquivoTxt')"
   ]
  }
 ],
 "metadata": {
  "kernelspec": {
   "display_name": "Python 3",
   "language": "python",
   "name": "python3"
  },
  "language_info": {
   "codemirror_mode": {
    "name": "ipython",
    "version": 3
   },
   "file_extension": ".py",
   "mimetype": "text/x-python",
   "name": "python",
   "nbconvert_exporter": "python",
   "pygments_lexer": "ipython3",
   "version": "3.12.3"
  }
 },
 "nbformat": 4,
 "nbformat_minor": 2
}
